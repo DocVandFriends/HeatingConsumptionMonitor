{
 "cells": [
  {
   "cell_type": "code",
   "execution_count": 1,
   "metadata": {},
   "outputs": [],
   "source": [
    "import pandas as pd"
   ]
  },
  {
   "cell_type": "code",
   "execution_count": 2,
   "metadata": {},
   "outputs": [],
   "source": [
    "df = pd.read_csv(\"HKV.csv\", sep=\";\")\n",
    "df[\"Datum\"] = pd.to_datetime(df[\"Datum\"], format=\"%d.%m.%Y\")"
   ]
  },
  {
   "cell_type": "code",
   "execution_count": 3,
   "metadata": {},
   "outputs": [],
   "source": [
    "df.set_index(\"Datum\");"
   ]
  },
  {
   "cell_type": "code",
   "execution_count": 4,
   "metadata": {},
   "outputs": [],
   "source": [
    "import matplotlib.pyplot as plt\n",
    "%matplotlib inline"
   ]
  },
  {
   "cell_type": "code",
   "execution_count": 5,
   "metadata": {},
   "outputs": [],
   "source": [
    "from influxdb import  InfluxDBClient\n",
    "\n",
    "client = InfluxDBClient(host=\"192.168.178.43\", port=\"8086\", username=\"grafana\", password=\"grafananana\")\n"
   ]
  },
  {
   "cell_type": "code",
   "execution_count": 6,
   "metadata": {},
   "outputs": [],
   "source": [
    "client.switch_database(\"openhab_db\")"
   ]
  },
  {
   "cell_type": "code",
   "execution_count": 8,
   "metadata": {},
   "outputs": [
    {
     "data": {
      "text/html": [
       "<div>\n",
       "<style scoped>\n",
       "    .dataframe tbody tr th:only-of-type {\n",
       "        vertical-align: middle;\n",
       "    }\n",
       "\n",
       "    .dataframe tbody tr th {\n",
       "        vertical-align: top;\n",
       "    }\n",
       "\n",
       "    .dataframe thead th {\n",
       "        text-align: right;\n",
       "    }\n",
       "</style>\n",
       "<table border=\"1\" class=\"dataframe\">\n",
       "  <thead>\n",
       "    <tr style=\"text-align: right;\">\n",
       "      <th></th>\n",
       "      <th>Datum</th>\n",
       "      <th>Ths</th>\n",
       "      <th>Kue</th>\n",
       "      <th>Bad</th>\n",
       "      <th>Schlaf</th>\n",
       "      <th>Kind</th>\n",
       "      <th>Wohn</th>\n",
       "      <th>Oben</th>\n",
       "      <th>Ess</th>\n",
       "    </tr>\n",
       "  </thead>\n",
       "  <tbody>\n",
       "    <tr>\n",
       "      <th>0</th>\n",
       "      <td>2021-01-01</td>\n",
       "      <td>169</td>\n",
       "      <td>171</td>\n",
       "      <td>90</td>\n",
       "      <td>50</td>\n",
       "      <td>58</td>\n",
       "      <td>196</td>\n",
       "      <td>0</td>\n",
       "      <td>286</td>\n",
       "    </tr>\n",
       "    <tr>\n",
       "      <th>1</th>\n",
       "      <td>2021-09-01</td>\n",
       "      <td>346</td>\n",
       "      <td>568</td>\n",
       "      <td>168</td>\n",
       "      <td>125</td>\n",
       "      <td>159</td>\n",
       "      <td>494</td>\n",
       "      <td>46</td>\n",
       "      <td>556</td>\n",
       "    </tr>\n",
       "    <tr>\n",
       "      <th>2</th>\n",
       "      <td>2022-02-06</td>\n",
       "      <td>219</td>\n",
       "      <td>287</td>\n",
       "      <td>76</td>\n",
       "      <td>14</td>\n",
       "      <td>77</td>\n",
       "      <td>446</td>\n",
       "      <td>50</td>\n",
       "      <td>405</td>\n",
       "    </tr>\n",
       "    <tr>\n",
       "      <th>3</th>\n",
       "      <td>2022-03-01</td>\n",
       "      <td>243</td>\n",
       "      <td>334</td>\n",
       "      <td>86</td>\n",
       "      <td>15</td>\n",
       "      <td>94</td>\n",
       "      <td>528</td>\n",
       "      <td>53</td>\n",
       "      <td>469</td>\n",
       "    </tr>\n",
       "    <tr>\n",
       "      <th>4</th>\n",
       "      <td>2022-03-07</td>\n",
       "      <td>243</td>\n",
       "      <td>354</td>\n",
       "      <td>91</td>\n",
       "      <td>15</td>\n",
       "      <td>97</td>\n",
       "      <td>542</td>\n",
       "      <td>55</td>\n",
       "      <td>490</td>\n",
       "    </tr>\n",
       "  </tbody>\n",
       "</table>\n",
       "</div>"
      ],
      "text/plain": [
       "       Datum  Ths  Kue  Bad  Schlaf  Kind  Wohn  Oben  Ess\n",
       "0 2021-01-01  169  171   90      50    58   196     0  286\n",
       "1 2021-09-01  346  568  168     125   159   494    46  556\n",
       "2 2022-02-06  219  287   76      14    77   446    50  405\n",
       "3 2022-03-01  243  334   86      15    94   528    53  469\n",
       "4 2022-03-07  243  354   91      15    97   542    55  490"
      ]
     },
     "execution_count": 8,
     "metadata": {},
     "output_type": "execute_result"
    }
   ],
   "source": [
    "df.head()"
   ]
  },
  {
   "cell_type": "code",
   "execution_count": 15,
   "metadata": {},
   "outputs": [],
   "source": [
    "for col in df.columns[1:]:\n",
    "    for row in df.index:\n",
    "        \n",
    "        measurement = f\"HKV_{col}\"\n",
    "        time = df.loc[row,\"Datum\"]\n",
    "        value = df.loc[row, col]       \n",
    "        \n",
    "        data = [\n",
    "            {\n",
    "                \"measurement\" : measurement,\n",
    "                #\"tags\" : \"HKV\",\n",
    "                \"time\" : time,\n",
    "                \"fields\" : {\"value\" : value}\n",
    "            }\n",
    "        ]\n",
    "        client.write_points(data)"
   ]
  },
  {
   "cell_type": "code",
   "execution_count": 18,
   "metadata": {},
   "outputs": [
    {
     "data": {
      "text/plain": [
       "True"
      ]
     },
     "execution_count": 18,
     "metadata": {},
     "output_type": "execute_result"
    }
   ],
   "source": [
    "client.write_points(data)"
   ]
  },
  {
   "cell_type": "code",
   "execution_count": 11,
   "metadata": {},
   "outputs": [
    {
     "name": "stdout",
     "output_type": "stream",
     "text": [
      "ResultSet({'('HKV_Schlaf', None)': [{'time': '2021-01-01T00:00:00Z', 'value': 50.0}, {'time': '2021-09-01T00:00:00Z', 'value': 125.0}, {'time': '2022-02-06T00:00:00Z', 'value': 14.0}, {'time': '2022-03-01T00:00:00Z', 'value': 15.0}, {'time': '2022-03-07T00:00:00Z', 'value': 15.0}, {'time': '2022-03-13T00:00:00Z', 'value': 19.0}, {'time': '2022-04-10T00:00:00Z', 'value': 20.0}, {'time': '2022-09-01T00:00:00Z', 'value': 20.0}, {'time': '2022-11-06T00:00:00Z', 'value': 0.0}, {'time': '2022-11-08T00:00:00Z', 'value': 0.0}, {'time': '2022-11-16T00:00:00Z', 'value': 0.0}, {'time': '2022-11-20T00:00:00Z', 'value': 0.0}, {'time': '2022-12-01T00:00:00Z', 'value': 1.0}, {'time': '2022-12-06T00:00:00Z', 'value': 2.0}, {'time': '2022-12-14T00:00:00Z', 'value': 4.0}, {'time': '2022-12-28T00:00:00Z', 'value': 7.0}, {'time': '2023-01-15T00:00:00Z', 'value': 7.0}, {'time': '2023-01-28T00:00:00Z', 'value': 7.0}, {'time': '2023-01-29T00:00:00Z', 'value': 7.0}, {'time': '2023-02-01T00:00:00Z', 'value': 7.0}, {'time': '2023-02-10T00:00:00Z', 'value': 7.0}, {'time': '2023-02-26T00:00:00Z', 'value': 7.0}]})\n"
     ]
    }
   ],
   "source": [
    "result = client.query(\"SELECT * FROM HKV_Schlaf\")\n",
    "print(result)"
   ]
  },
  {
   "cell_type": "code",
   "execution_count": null,
   "metadata": {},
   "outputs": [],
   "source": []
  }
 ],
 "metadata": {
  "kernelspec": {
   "display_name": "Python 3",
   "language": "python",
   "name": "python3"
  },
  "language_info": {
   "codemirror_mode": {
    "name": "ipython",
    "version": 3
   },
   "file_extension": ".py",
   "mimetype": "text/x-python",
   "name": "python",
   "nbconvert_exporter": "python",
   "pygments_lexer": "ipython3",
   "version": "3.11.0"
  },
  "orig_nbformat": 4,
  "vscode": {
   "interpreter": {
    "hash": "e2de187e2ac018b1966125b89a9965710f2e135e980700bc64d2907d990fa000"
   }
  }
 },
 "nbformat": 4,
 "nbformat_minor": 2
}
